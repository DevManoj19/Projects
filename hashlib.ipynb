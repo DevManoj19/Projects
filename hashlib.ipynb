{
  "nbformat": 4,
  "nbformat_minor": 0,
  "metadata": {
    "colab": {
      "provenance": [],
      "authorship_tag": "ABX9TyO/+h7CK7GPIH7kRSsteKoX",
      "include_colab_link": true
    },
    "kernelspec": {
      "name": "python3",
      "display_name": "Python 3"
    },
    "language_info": {
      "name": "python"
    }
  },
  "cells": [
    {
      "cell_type": "markdown",
      "metadata": {
        "id": "view-in-github",
        "colab_type": "text"
      },
      "source": [
        "<a href=\"https://colab.research.google.com/github/DevManoj19/Projects/blob/main/hashlib.ipynb\" target=\"_parent\"><img src=\"https://colab.research.google.com/assets/colab-badge.svg\" alt=\"Open In Colab\"/></a>"
      ]
    },
    {
      "cell_type": "code",
      "execution_count": null,
      "metadata": {
        "id": "_STWrgpQhCVR"
      },
      "outputs": [],
      "source": []
    },
    {
      "source": [
        "import hashlib\n",
        "import datetime\n",
        "\n",
        "class Block:\n",
        "    def __init__(self, timestamp, data, previous_hash):\n",
        "        self.timestamp = timestamp\n",
        "        self.data = data\n",
        "        self.previous_hash = previous_hash\n",
        "        self.hash = self.calculate_hash()\n",
        "\n",
        "    def calculate_hash(self):\n",
        "        sha = hashlib.sha256()\n",
        "        sha.update(str(self.timestamp).encode('utf-8') +\n",
        "                   str(self.data).encode('utf-8') +\n",
        "                   str(self.previous_hash).encode('utf-8'))\n",
        "        return sha.hexdigest()\n",
        "\n",
        "class Blockchain:\n",
        "    def __init__(self):\n",
        "        self.genesis_block = Block(datetime.datetime.now(), \"Genesis Block\", \"0\")\n",
        "        self.chain = [self.genesis_block]\n",
        "\n",
        "    def add_block(self, data):\n",
        "        previous_block = self.chain[-1]\n",
        "        new_block = Block(datetime.datetime.now(), data, previous_block.hash)\n",
        "        self.chain.append(new_block)\n",
        "\n",
        "    def is_valid(self):\n",
        "        for i in range(1, len(self.chain)):\n",
        "            current_block = self.chain[i]\n",
        "            previous_block = self.chain[i-1]\n",
        "\n",
        "            if current_block.hash != current_block.calculate_hash():\n",
        "                return False\n",
        "\n",
        "            if current_block.previous_hash != previous_block.hash:\n",
        "                return False\n",
        "\n",
        "        return True\n",
        "\n",
        "# Create a blockchain\n",
        "blockchain = Blockchain()\n",
        "\n",
        "# Add some blocks\n",
        "blockchain.add_block(\"Transaction 1\")\n",
        "blockchain.add_block(\"Transaction 2\")\n",
        "\n",
        "# Check if the blockchain is valid\n",
        "print(blockchain.is_valid())  # Output: True"
      ],
      "cell_type": "code",
      "metadata": {
        "colab": {
          "base_uri": "https://localhost:8080/"
        },
        "id": "NjmdHhErH-Hn",
        "outputId": "cb93e517-7892-4e0e-8bf0-39a019dd07a9"
      },
      "execution_count": 2,
      "outputs": [
        {
          "output_type": "stream",
          "name": "stdout",
          "text": [
            "True\n"
          ]
        }
      ]
    },
    {
      "cell_type": "markdown",
      "source": [
        "This code demonstrates the core principles of a blockchain:\n",
        "\n",
        "**Data Integrity: Any change to a block's data would change its hash, which would then invalidate the subsequent blocks in the chain.\n",
        "**Immutability: Once a block is added to the blockchain, it cannot be easily altered without invalidating the entire chain.\n",
        "**Transparency: All transactions (data) are stored in the blocks and can be viewed by anyone with access to the blockchain.\n",
        "\n",
        "\n"
      ],
      "metadata": {
        "id": "KpBOwsWmIho8"
      }
    }
  ]
}